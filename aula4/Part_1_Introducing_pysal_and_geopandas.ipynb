{
 "cells": [
  {
   "cell_type": "code",
   "execution_count": 1,
   "metadata": {},
   "outputs": [],
   "source": [
    "import warnings\n",
    "warnings.filterwarnings('ignore')\n",
    "import pysal as ps\n",
    "import pandas as pd\n",
    "import geopandas as gpd"
   ]
  },
  {
   "cell_type": "markdown",
   "metadata": {},
   "source": [
    "## Exemplos de datasets presentes na biblioteca"
   ]
  },
  {
   "cell_type": "code",
   "execution_count": 6,
   "metadata": {},
   "outputs": [
    {
     "data": {
      "text/plain": [
       "['10740',\n",
       " 'arcgis',\n",
       " 'baltim',\n",
       " 'berlin',\n",
       " 'book',\n",
       " 'burkitt',\n",
       " 'calemp',\n",
       " 'chicago',\n",
       " 'clearwater',\n",
       " 'columbus',\n",
       " 'desmith',\n",
       " '__pycache__',\n",
       " 'geodanet',\n",
       " 'georgia',\n",
       " 'guerry',\n",
       " 'juvenile',\n",
       " 'Line',\n",
       " 'mexico',\n",
       " 'nat',\n",
       " 'networks',\n",
       " 'newHaven',\n",
       " 'nyc_bikes',\n",
       " 'Point',\n",
       " 'Polygon',\n",
       " 'Polygon_Holes',\n",
       " 'rio_grande_do_sul',\n",
       " 'sacramento2',\n",
       " 'sids2',\n",
       " 'snow_maps',\n",
       " 'south',\n",
       " 'stl',\n",
       " 'street_net_pts',\n",
       " 'taz',\n",
       " '__pycache__',\n",
       " 'tests',\n",
       " 'tokyo',\n",
       " 'us_income',\n",
       " 'virginia',\n",
       " 'wmat',\n",
       " '__pycache__']"
      ]
     },
     "execution_count": 6,
     "metadata": {},
     "output_type": "execute_result"
    }
   ],
   "source": [
    "ps.lib.examples.available()"
   ]
  },
  {
   "cell_type": "markdown",
   "metadata": {},
   "source": [
    "### Descrição de um dos datasets"
   ]
  },
  {
   "cell_type": "code",
   "execution_count": 28,
   "metadata": {},
   "outputs": [
    {
     "data": {
      "text/plain": [
       "{'name': 'us_income',\n",
       " 'description': 'Per-capita income for the lower 48 US states 1929-2009',\n",
       " 'explanation': ['* spi_download.csv: regional per capita income time series 1969-2008. (source:  Regional Economic Information System, Bureau of Economic Analysis, U.S. Department of Commerce) ',\n",
       "  '* states48.gal: contiguity weights in GAL format.',\n",
       "  '* us48.dbf: attribute data. (k=8)',\n",
       "  '* us48.shp: Polygon shapefile. (n=48) ',\n",
       "  '* us48.shx: spatial index.',\n",
       "  '* usjoin.csv: 48 US states per capita income time series 1929-2009.']}"
      ]
     },
     "execution_count": 28,
     "metadata": {},
     "output_type": "execute_result"
    }
   ],
   "source": [
    "ps.lib.examples.explain('us_income')"
   ]
  },
  {
   "cell_type": "markdown",
   "metadata": {},
   "source": [
    "### Pegar o caminho dos arquivos"
   ]
  },
  {
   "cell_type": "code",
   "execution_count": 38,
   "metadata": {},
   "outputs": [
    {
     "name": "stdout",
     "output_type": "stream",
     "text": [
      "C:\\Users\\Tiago\\Anaconda3\\lib\\site-packages\\pysal\\lib\\examples\\us_income\\usjoin.csv\n"
     ]
    },
    {
     "data": {
      "text/plain": [
       "'C:\\\\Users\\\\Tiago\\\\Anaconda3\\\\lib\\\\site-packages\\\\pysal\\\\lib\\\\examples\\\\us_income\\\\us48.shp'"
      ]
     },
     "execution_count": 38,
     "metadata": {},
     "output_type": "execute_result"
    }
   ],
   "source": [
    "csv_path = ps.lib.examples.get_path('usjoin.csv')\n",
    "shp_path = ps.lib.examples.get_path('us48.shp')\n",
    "\n",
    "print(csv_path)\n",
    "shp_path"
   ]
  },
  {
   "cell_type": "code",
   "execution_count": 39,
   "metadata": {},
   "outputs": [
    {
     "data": {
      "text/html": [
       "<div>\n",
       "<style scoped>\n",
       "    .dataframe tbody tr th:only-of-type {\n",
       "        vertical-align: middle;\n",
       "    }\n",
       "\n",
       "    .dataframe tbody tr th {\n",
       "        vertical-align: top;\n",
       "    }\n",
       "\n",
       "    .dataframe thead th {\n",
       "        text-align: right;\n",
       "    }\n",
       "</style>\n",
       "<table border=\"1\" class=\"dataframe\">\n",
       "  <thead>\n",
       "    <tr style=\"text-align: right;\">\n",
       "      <th></th>\n",
       "      <th>Name</th>\n",
       "      <th>STATE_FIPS</th>\n",
       "      <th>1929</th>\n",
       "      <th>1930</th>\n",
       "      <th>1931</th>\n",
       "      <th>1932</th>\n",
       "      <th>1933</th>\n",
       "      <th>1934</th>\n",
       "      <th>1935</th>\n",
       "      <th>1936</th>\n",
       "      <th>...</th>\n",
       "      <th>2000</th>\n",
       "      <th>2001</th>\n",
       "      <th>2002</th>\n",
       "      <th>2003</th>\n",
       "      <th>2004</th>\n",
       "      <th>2005</th>\n",
       "      <th>2006</th>\n",
       "      <th>2007</th>\n",
       "      <th>2008</th>\n",
       "      <th>2009</th>\n",
       "    </tr>\n",
       "  </thead>\n",
       "  <tbody>\n",
       "    <tr>\n",
       "      <th>0</th>\n",
       "      <td>Alabama</td>\n",
       "      <td>1</td>\n",
       "      <td>323</td>\n",
       "      <td>267</td>\n",
       "      <td>224</td>\n",
       "      <td>162</td>\n",
       "      <td>166</td>\n",
       "      <td>211</td>\n",
       "      <td>217</td>\n",
       "      <td>251</td>\n",
       "      <td>...</td>\n",
       "      <td>23471</td>\n",
       "      <td>24467</td>\n",
       "      <td>25161</td>\n",
       "      <td>26065</td>\n",
       "      <td>27665</td>\n",
       "      <td>29097</td>\n",
       "      <td>30634</td>\n",
       "      <td>31988</td>\n",
       "      <td>32819</td>\n",
       "      <td>32274</td>\n",
       "    </tr>\n",
       "    <tr>\n",
       "      <th>1</th>\n",
       "      <td>Arizona</td>\n",
       "      <td>4</td>\n",
       "      <td>600</td>\n",
       "      <td>520</td>\n",
       "      <td>429</td>\n",
       "      <td>321</td>\n",
       "      <td>308</td>\n",
       "      <td>362</td>\n",
       "      <td>416</td>\n",
       "      <td>462</td>\n",
       "      <td>...</td>\n",
       "      <td>25578</td>\n",
       "      <td>26232</td>\n",
       "      <td>26469</td>\n",
       "      <td>27106</td>\n",
       "      <td>28753</td>\n",
       "      <td>30671</td>\n",
       "      <td>32552</td>\n",
       "      <td>33470</td>\n",
       "      <td>33445</td>\n",
       "      <td>32077</td>\n",
       "    </tr>\n",
       "    <tr>\n",
       "      <th>2</th>\n",
       "      <td>Arkansas</td>\n",
       "      <td>5</td>\n",
       "      <td>310</td>\n",
       "      <td>228</td>\n",
       "      <td>215</td>\n",
       "      <td>157</td>\n",
       "      <td>157</td>\n",
       "      <td>187</td>\n",
       "      <td>207</td>\n",
       "      <td>247</td>\n",
       "      <td>...</td>\n",
       "      <td>22257</td>\n",
       "      <td>23532</td>\n",
       "      <td>23929</td>\n",
       "      <td>25074</td>\n",
       "      <td>26465</td>\n",
       "      <td>27512</td>\n",
       "      <td>29041</td>\n",
       "      <td>31070</td>\n",
       "      <td>31800</td>\n",
       "      <td>31493</td>\n",
       "    </tr>\n",
       "    <tr>\n",
       "      <th>3</th>\n",
       "      <td>California</td>\n",
       "      <td>6</td>\n",
       "      <td>991</td>\n",
       "      <td>887</td>\n",
       "      <td>749</td>\n",
       "      <td>580</td>\n",
       "      <td>546</td>\n",
       "      <td>603</td>\n",
       "      <td>660</td>\n",
       "      <td>771</td>\n",
       "      <td>...</td>\n",
       "      <td>32275</td>\n",
       "      <td>32750</td>\n",
       "      <td>32900</td>\n",
       "      <td>33801</td>\n",
       "      <td>35663</td>\n",
       "      <td>37463</td>\n",
       "      <td>40169</td>\n",
       "      <td>41943</td>\n",
       "      <td>42377</td>\n",
       "      <td>40902</td>\n",
       "    </tr>\n",
       "    <tr>\n",
       "      <th>4</th>\n",
       "      <td>Colorado</td>\n",
       "      <td>8</td>\n",
       "      <td>634</td>\n",
       "      <td>578</td>\n",
       "      <td>471</td>\n",
       "      <td>354</td>\n",
       "      <td>353</td>\n",
       "      <td>368</td>\n",
       "      <td>444</td>\n",
       "      <td>542</td>\n",
       "      <td>...</td>\n",
       "      <td>32949</td>\n",
       "      <td>34228</td>\n",
       "      <td>33963</td>\n",
       "      <td>34092</td>\n",
       "      <td>35543</td>\n",
       "      <td>37388</td>\n",
       "      <td>39662</td>\n",
       "      <td>41165</td>\n",
       "      <td>41719</td>\n",
       "      <td>40093</td>\n",
       "    </tr>\n",
       "  </tbody>\n",
       "</table>\n",
       "<p>5 rows × 83 columns</p>\n",
       "</div>"
      ],
      "text/plain": [
       "         Name  STATE_FIPS  1929  1930  1931  1932  1933  1934  1935  1936  \\\n",
       "0     Alabama           1   323   267   224   162   166   211   217   251   \n",
       "1     Arizona           4   600   520   429   321   308   362   416   462   \n",
       "2    Arkansas           5   310   228   215   157   157   187   207   247   \n",
       "3  California           6   991   887   749   580   546   603   660   771   \n",
       "4    Colorado           8   634   578   471   354   353   368   444   542   \n",
       "\n",
       "   ...     2000   2001   2002   2003   2004   2005   2006   2007   2008   2009  \n",
       "0  ...    23471  24467  25161  26065  27665  29097  30634  31988  32819  32274  \n",
       "1  ...    25578  26232  26469  27106  28753  30671  32552  33470  33445  32077  \n",
       "2  ...    22257  23532  23929  25074  26465  27512  29041  31070  31800  31493  \n",
       "3  ...    32275  32750  32900  33801  35663  37463  40169  41943  42377  40902  \n",
       "4  ...    32949  34228  33963  34092  35543  37388  39662  41165  41719  40093  \n",
       "\n",
       "[5 rows x 83 columns]"
      ]
     },
     "execution_count": 39,
     "metadata": {},
     "output_type": "execute_result"
    }
   ],
   "source": [
    "pandas_df = pd.read_csv(csv_path)\n",
    "pandas_df.head()"
   ]
  },
  {
   "cell_type": "markdown",
   "metadata": {},
   "source": [
    "### Lendo arquivo shapefile com GEOPANDAS"
   ]
  },
  {
   "cell_type": "code",
   "execution_count": 41,
   "metadata": {},
   "outputs": [
    {
     "data": {
      "text/html": [
       "<div>\n",
       "<style scoped>\n",
       "    .dataframe tbody tr th:only-of-type {\n",
       "        vertical-align: middle;\n",
       "    }\n",
       "\n",
       "    .dataframe tbody tr th {\n",
       "        vertical-align: top;\n",
       "    }\n",
       "\n",
       "    .dataframe thead th {\n",
       "        text-align: right;\n",
       "    }\n",
       "</style>\n",
       "<table border=\"1\" class=\"dataframe\">\n",
       "  <thead>\n",
       "    <tr style=\"text-align: right;\">\n",
       "      <th></th>\n",
       "      <th>AREA</th>\n",
       "      <th>PERIMETER</th>\n",
       "      <th>STATE_</th>\n",
       "      <th>STATE_ID</th>\n",
       "      <th>STATE_NAME</th>\n",
       "      <th>STATE_FIPS</th>\n",
       "      <th>SUB_REGION</th>\n",
       "      <th>STATE_ABBR</th>\n",
       "      <th>geometry</th>\n",
       "    </tr>\n",
       "  </thead>\n",
       "  <tbody>\n",
       "    <tr>\n",
       "      <th>0</th>\n",
       "      <td>20.750</td>\n",
       "      <td>34.956</td>\n",
       "      <td>1</td>\n",
       "      <td>1</td>\n",
       "      <td>Washington</td>\n",
       "      <td>53</td>\n",
       "      <td>Pacific</td>\n",
       "      <td>WA</td>\n",
       "      <td>(POLYGON ((-122.400749206543 48.22539520263672...</td>\n",
       "    </tr>\n",
       "    <tr>\n",
       "      <th>1</th>\n",
       "      <td>45.132</td>\n",
       "      <td>34.527</td>\n",
       "      <td>2</td>\n",
       "      <td>2</td>\n",
       "      <td>Montana</td>\n",
       "      <td>30</td>\n",
       "      <td>Mtn</td>\n",
       "      <td>MT</td>\n",
       "      <td>POLYGON ((-111.4746322631836 44.70223999023438...</td>\n",
       "    </tr>\n",
       "    <tr>\n",
       "      <th>2</th>\n",
       "      <td>9.571</td>\n",
       "      <td>18.899</td>\n",
       "      <td>3</td>\n",
       "      <td>3</td>\n",
       "      <td>Maine</td>\n",
       "      <td>23</td>\n",
       "      <td>N Eng</td>\n",
       "      <td>ME</td>\n",
       "      <td>(POLYGON ((-69.77778625488281 44.0740737915039...</td>\n",
       "    </tr>\n",
       "    <tr>\n",
       "      <th>3</th>\n",
       "      <td>21.874</td>\n",
       "      <td>21.353</td>\n",
       "      <td>4</td>\n",
       "      <td>4</td>\n",
       "      <td>North Dakota</td>\n",
       "      <td>38</td>\n",
       "      <td>W N Cen</td>\n",
       "      <td>ND</td>\n",
       "      <td>POLYGON ((-98.73005676269531 45.93829727172852...</td>\n",
       "    </tr>\n",
       "    <tr>\n",
       "      <th>4</th>\n",
       "      <td>22.598</td>\n",
       "      <td>22.746</td>\n",
       "      <td>5</td>\n",
       "      <td>5</td>\n",
       "      <td>South Dakota</td>\n",
       "      <td>46</td>\n",
       "      <td>W N Cen</td>\n",
       "      <td>SD</td>\n",
       "      <td>POLYGON ((-102.7879333496094 42.99532318115234...</td>\n",
       "    </tr>\n",
       "  </tbody>\n",
       "</table>\n",
       "</div>"
      ],
      "text/plain": [
       "     AREA  PERIMETER  STATE_  STATE_ID    STATE_NAME STATE_FIPS SUB_REGION  \\\n",
       "0  20.750     34.956       1         1    Washington         53    Pacific   \n",
       "1  45.132     34.527       2         2       Montana         30        Mtn   \n",
       "2   9.571     18.899       3         3         Maine         23      N Eng   \n",
       "3  21.874     21.353       4         4  North Dakota         38    W N Cen   \n",
       "4  22.598     22.746       5         5  South Dakota         46    W N Cen   \n",
       "\n",
       "  STATE_ABBR                                           geometry  \n",
       "0         WA  (POLYGON ((-122.400749206543 48.22539520263672...  \n",
       "1         MT  POLYGON ((-111.4746322631836 44.70223999023438...  \n",
       "2         ME  (POLYGON ((-69.77778625488281 44.0740737915039...  \n",
       "3         ND  POLYGON ((-98.73005676269531 45.93829727172852...  \n",
       "4         SD  POLYGON ((-102.7879333496094 42.99532318115234...  "
      ]
     },
     "execution_count": 41,
     "metadata": {},
     "output_type": "execute_result"
    }
   ],
   "source": [
    "geopandas_df = gpd.read_file(shp_path)\n",
    "geopandas_df.head()\n",
    "\n",
    "#geopandas_df.query('STATE_NAME == \"Washington\"')"
   ]
  },
  {
   "cell_type": "markdown",
   "metadata": {},
   "source": [
    "### Plotando shapefile com geopandas"
   ]
  },
  {
   "cell_type": "code",
   "execution_count": 42,
   "metadata": {},
   "outputs": [
    {
     "data": {
      "text/plain": [
       "<matplotlib.axes._subplots.AxesSubplot at 0x1840eb974e0>"
      ]
     },
     "execution_count": 42,
     "metadata": {},
     "output_type": "execute_result"
    },
    {
     "data": {
      "image/png": "[encoded data removed]",
      "text/plain": [
       "<Figure size 432x288 with 1 Axes>"
      ]
     },
     "metadata": {},
     "output_type": "display_data"
    }
   ],
   "source": [
    "geopandas_df.plot()"
   ]
  },
  {
   "cell_type": "code",
   "execution_count": 33,
   "metadata": {},
   "outputs": [
    {
     "data": {
      "text/plain": [
       "{'name': 'Rio_Grande_do_Sul',\n",
       " 'description': 'Cities of the Brazilian State of Rio Grande do Sul',\n",
       " 'explanation': ['* 43MUE250GC_SIR.dbf: attribute data (k=2)',\n",
       "  '* 43MUE250GC_SIR.shp: Polygon shapefile (n=499)',\n",
       "  '* 43MUE250GC_SIR.shx: spatial index',\n",
       "  '* 43MUE250GC_SIR.cpg: encoding file ',\n",
       "  '* 43MUE250GC_SIR.prj: projection information ',\n",
       "  '* map_RS_BR.dbf: attribute data (k=3)',\n",
       "  '* map_RS_BR.shp: Polygon shapefile (no lakes) (n=497)',\n",
       "  '* map_RS_BR.prj: projection information',\n",
       "  '* map_RS_BR.shx: spatial index',\n",
       "  'Source: Renan Xavier Cortes <renanxcortes@gmail.com>',\n",
       "  'Reference: https://github.com/pysal/pysal/issues/889#issuecomment-396693495']}"
      ]
     },
     "execution_count": 33,
     "metadata": {},
     "output_type": "execute_result"
    }
   ],
   "source": [
    "ps.lib.examples.explain('rio_grande_do_sul')"
   ]
  },
  {
   "cell_type": "code",
   "execution_count": 36,
   "metadata": {},
   "outputs": [
    {
     "data": {
      "text/plain": [
       "<matplotlib.axes._subplots.AxesSubplot at 0x1840eb4e4a8>"
      ]
     },
     "execution_count": 36,
     "metadata": {},
     "output_type": "execute_result"
    },
    {
     "data": {
      "image/png": "[encoded data removed]",
      "text/plain": [
       "<Figure size 432x288 with 1 Axes>"
      ]
     },
     "metadata": {},
     "output_type": "display_data"
    }
   ],
   "source": [
    "shp_path = ps.lib.examples.get_path('map_RS_BR.shp')\n",
    "geopandas_df = gpd.read_file(shp_path)\n",
    "geopandas_df.plot()"
   ]
  }
 ],
 "metadata": {
  "kernelspec": {
   "display_name": "Python 3",
   "language": "python",
   "name": "python3"
  },
  "language_info": {
   "codemirror_mode": {
    "name": "ipython",
    "version": 3
   },
   "file_extension": ".py",
   "mimetype": "text/x-python",
   "name": "python",
   "nbconvert_exporter": "python",
   "pygments_lexer": "ipython3",
   "version": "3.6.5"
  }
 },
 "nbformat": 4,
 "nbformat_minor": 2
}
