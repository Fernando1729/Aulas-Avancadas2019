{
 "cells": [
  {
   "cell_type": "code",
   "execution_count": 1,
   "metadata": {},
   "outputs": [],
   "source": [
    "import pandas as pd\n",
    "import statsmodels.api as sm"
   ]
  },
  {
   "cell_type": "markdown",
   "metadata": {},
   "source": [
    "### Carregar dados"
   ]
  },
  {
   "cell_type": "code",
   "execution_count": 2,
   "metadata": {},
   "outputs": [
    {
     "data": {
      "text/html": [
       "<div>\n",
       "<style scoped>\n",
       "    .dataframe tbody tr th:only-of-type {\n",
       "        vertical-align: middle;\n",
       "    }\n",
       "\n",
       "    .dataframe tbody tr th {\n",
       "        vertical-align: top;\n",
       "    }\n",
       "\n",
       "    .dataframe thead th {\n",
       "        text-align: right;\n",
       "    }\n",
       "</style>\n",
       "<table border=\"1\" class=\"dataframe\">\n",
       "  <thead>\n",
       "    <tr style=\"text-align: right;\">\n",
       "      <th></th>\n",
       "      <th>CD_GEOCMU</th>\n",
       "      <th>COD_TSE</th>\n",
       "      <th>UF</th>\n",
       "      <th>NM_MUNICIPIO</th>\n",
       "      <th>13</th>\n",
       "      <th>17</th>\n",
       "      <th>Haddad</th>\n",
       "      <th>Bolsonaro</th>\n",
       "      <th>QT_APTOS</th>\n",
       "      <th>QT_COMPARECIMENTO</th>\n",
       "      <th>Comparecimento</th>\n",
       "    </tr>\n",
       "  </thead>\n",
       "  <tbody>\n",
       "    <tr>\n",
       "      <th>0</th>\n",
       "      <td>5200050</td>\n",
       "      <td>93360</td>\n",
       "      <td>GO</td>\n",
       "      <td>ABADIA DE GOIÁS</td>\n",
       "      <td>1928</td>\n",
       "      <td>4285</td>\n",
       "      <td>31.031708</td>\n",
       "      <td>68.968292</td>\n",
       "      <td>8373</td>\n",
       "      <td>6505</td>\n",
       "      <td>77.690195</td>\n",
       "    </tr>\n",
       "    <tr>\n",
       "      <th>1</th>\n",
       "      <td>3100104</td>\n",
       "      <td>40010</td>\n",
       "      <td>MG</td>\n",
       "      <td>ABADIA DOS DOURADOS</td>\n",
       "      <td>1821</td>\n",
       "      <td>2117</td>\n",
       "      <td>46.241747</td>\n",
       "      <td>53.758253</td>\n",
       "      <td>5772</td>\n",
       "      <td>4548</td>\n",
       "      <td>78.794179</td>\n",
       "    </tr>\n",
       "    <tr>\n",
       "      <th>2</th>\n",
       "      <td>5200100</td>\n",
       "      <td>92010</td>\n",
       "      <td>GO</td>\n",
       "      <td>ABADIÂNIA</td>\n",
       "      <td>1781</td>\n",
       "      <td>5204</td>\n",
       "      <td>25.497495</td>\n",
       "      <td>74.502505</td>\n",
       "      <td>9077</td>\n",
       "      <td>7477</td>\n",
       "      <td>82.373031</td>\n",
       "    </tr>\n",
       "    <tr>\n",
       "      <th>3</th>\n",
       "      <td>1500107</td>\n",
       "      <td>4014</td>\n",
       "      <td>PA</td>\n",
       "      <td>ABAETETUBA</td>\n",
       "      <td>61646</td>\n",
       "      <td>19896</td>\n",
       "      <td>75.600304</td>\n",
       "      <td>24.399696</td>\n",
       "      <td>107389</td>\n",
       "      <td>87656</td>\n",
       "      <td>81.624747</td>\n",
       "    </tr>\n",
       "    <tr>\n",
       "      <th>4</th>\n",
       "      <td>3100203</td>\n",
       "      <td>40037</td>\n",
       "      <td>MG</td>\n",
       "      <td>ABAETÉ</td>\n",
       "      <td>4289</td>\n",
       "      <td>7581</td>\n",
       "      <td>36.133109</td>\n",
       "      <td>63.866891</td>\n",
       "      <td>18605</td>\n",
       "      <td>13635</td>\n",
       "      <td>73.286751</td>\n",
       "    </tr>\n",
       "  </tbody>\n",
       "</table>\n",
       "</div>"
      ],
      "text/plain": [
       "   CD_GEOCMU  COD_TSE  UF         NM_MUNICIPIO     13     17     Haddad  \\\n",
       "0    5200050    93360  GO      ABADIA DE GOIÁS   1928   4285  31.031708   \n",
       "1    3100104    40010  MG  ABADIA DOS DOURADOS   1821   2117  46.241747   \n",
       "2    5200100    92010  GO            ABADIÂNIA   1781   5204  25.497495   \n",
       "3    1500107     4014  PA           ABAETETUBA  61646  19896  75.600304   \n",
       "4    3100203    40037  MG               ABAETÉ   4289   7581  36.133109   \n",
       "\n",
       "   Bolsonaro  QT_APTOS  QT_COMPARECIMENTO  Comparecimento  \n",
       "0  68.968292      8373               6505       77.690195  \n",
       "1  53.758253      5772               4548       78.794179  \n",
       "2  74.502505      9077               7477       82.373031  \n",
       "3  24.399696    107389              87656       81.624747  \n",
       "4  63.866891     18605              13635       73.286751  "
      ]
     },
     "execution_count": 2,
     "metadata": {},
     "output_type": "execute_result"
    }
   ],
   "source": [
    "votes = pd.read_csv('data\\municipios_turno_2.csv')\n",
    "comparecimento = pd.read_csv('data\\eleicoes.csv')[['QT_APTOS','QT_COMPARECIMENTO', 'COD_TSE']].groupby(['COD_TSE']).sum()\n",
    "comparecimento['Comparecimento'] = comparecimento['QT_COMPARECIMENTO']/comparecimento['QT_APTOS'] *100  \n",
    "comparecimento.reset_index(inplace=True)\n",
    "votes = votes.merge(comparecimento, on='COD_TSE', how='left')\n",
    "votes.fillna(0, inplace=True)\n",
    "votes.rename(columns = {'13%':'Haddad', '17%':'Bolsonaro'}, inplace=True)\n",
    "votes.head()"
   ]
  },
  {
   "cell_type": "markdown",
   "metadata": {},
   "source": [
    "### Fitting Multilevel Modeling"
   ]
  },
  {
   "cell_type": "code",
   "execution_count": null,
   "metadata": {},
   "outputs": [],
   "source": [
    "turnout_model = sm.MixedLM.from_formula(\"Bolsonaro ~ QT_COMPARECIMENTO\", groups=\"UF\", data=votes)\n",
    "turnout_model = turnout_model.fit()\n",
    "prediction = turnout_model.predict(votes['QT_COMPARECIMENTO'])\n",
    "rmse = sm.tools.eval_measures.rmse(votes['Bolsonaro'], prediction)\n",
    "print(rmse)\n",
    "turnout_model.summary()"
   ]
  },
  {
   "cell_type": "markdown",
   "metadata": {},
   "source": [
    "### Fitting Linear Regression"
   ]
  },
  {
   "cell_type": "code",
   "execution_count": 6,
   "metadata": {},
   "outputs": [
    {
     "name": "stdout",
     "output_type": "stream",
     "text": [
      "49.50848703506979\n"
     ]
    }
   ],
   "source": [
    "mod = sm.OLS(votes['Bolsonaro'], votes['QT_COMPARECIMENTO'])\n",
    "mod = mod.fit()\n",
    "prediction = mod.predict(votes['QT_COMPARECIMENTO'])\n",
    "rmse = sm.tools.eval_measures.rmse(votes['Bolsonaro'], prediction)\n",
    "print(rmse)"
   ]
  }
 ],
 "metadata": {
  "kernelspec": {
   "display_name": "Python 3",
   "language": "python",
   "name": "python3"
  },
  "language_info": {
   "codemirror_mode": {
    "name": "ipython",
    "version": 3
   },
   "file_extension": ".py",
   "mimetype": "text/x-python",
   "name": "python",
   "nbconvert_exporter": "python",
   "pygments_lexer": "ipython3",
   "version": "3.6.5"
  }
 },
 "nbformat": 4,
 "nbformat_minor": 2
}
